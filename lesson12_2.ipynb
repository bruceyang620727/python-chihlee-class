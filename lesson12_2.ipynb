{
 "cells": [
  {
   "cell_type": "code",
   "execution_count": 13,
   "metadata": {},
   "outputs": [
    {
     "data": {
      "text/plain": [
       "[30.72,\n",
       " 25.82,\n",
       " 37.43,\n",
       " 37.66,\n",
       " 37.67,\n",
       " 27.41,\n",
       " 30.42,\n",
       " 33.92,\n",
       " 38.32,\n",
       " 25.27,\n",
       " 42.69,\n",
       " 32.98,\n",
       " 40.39,\n",
       " 29.68,\n",
       " 30.46,\n",
       " 27.31,\n",
       " 38.88,\n",
       " 31.05,\n",
       " 39.0,\n",
       " 30.05,\n",
       " 36.52,\n",
       " 27.64,\n",
       " 25.13,\n",
       " 37.06,\n",
       " 28.99,\n",
       " 39.5,\n",
       " 34.78,\n",
       " 37.94,\n",
       " 34.16,\n",
       " 35.32,\n",
       " 31.55]"
      ]
     },
     "execution_count": 13,
     "metadata": {},
     "output_type": "execute_result"
    }
   ],
   "source": [
    "import random #module，而module內有提供方法method\n",
    "days = list(range(1,32)) #生成一個1~31的list\n",
    "#用亂數來做31天的溫度\n",
    "celsius = [] # or list() #list.append()中，list是實體，sppend是方法\n",
    "for _ in range(31): #省略運算子_，並執行31次()0~30\n",
    "    #celsius.append(random.random()) #而module內有提供random方法method，但此法只能產生0~1之間亂數\n",
    "    celsius.append(round(random.uniform(25,45),ndigits=2)) #round是內建函數\n",
    "celsius"
   ]
  },
  {
   "cell_type": "code",
   "execution_count": null,
   "metadata": {},
   "outputs": [],
   "source": []
  }
 ],
 "metadata": {
  "kernelspec": {
   "display_name": "Python 3",
   "language": "python",
   "name": "python3"
  },
  "language_info": {
   "codemirror_mode": {
    "name": "ipython",
    "version": 3
   },
   "file_extension": ".py",
   "mimetype": "text/x-python",
   "name": "python",
   "nbconvert_exporter": "python",
   "pygments_lexer": "ipython3",
   "version": "3.10.12"
  },
  "orig_nbformat": 4
 },
 "nbformat": 4,
 "nbformat_minor": 2
}
