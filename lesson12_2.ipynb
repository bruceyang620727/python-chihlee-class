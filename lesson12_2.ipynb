{
 "cells": [
  {
   "cell_type": "code",
   "execution_count": 10,
   "metadata": {},
   "outputs": [
    {
     "data": {
      "text/plain": [
       "[34.94,\n",
       " 37.07,\n",
       " 42.73,\n",
       " 29.02,\n",
       " 25.52,\n",
       " 31.0,\n",
       " 33.74,\n",
       " 34.8,\n",
       " 42.02,\n",
       " 37.66,\n",
       " 41.16,\n",
       " 34.61,\n",
       " 31.95,\n",
       " 33.74,\n",
       " 38.47,\n",
       " 36.5,\n",
       " 35.0,\n",
       " 32.49,\n",
       " 39.94,\n",
       " 40.75,\n",
       " 32.32,\n",
       " 36.2,\n",
       " 40.33,\n",
       " 35.99,\n",
       " 30.0,\n",
       " 30.02,\n",
       " 43.84,\n",
       " 27.19,\n",
       " 40.1,\n",
       " 41.64,\n",
       " 41.36]"
      ]
     },
     "execution_count": 10,
     "metadata": {},
     "output_type": "execute_result"
    }
   ],
   "source": [
    "import random #module，而module內有提供方法method\n",
    "days = list(range(1,32)) #生成一個1~31的list\n",
    "\n",
    "#celsius = [] # or list() #list.append()中，list是實體，sppend是方法\n",
    "#用亂數來做31天的溫度\n",
    "# for _ in range(31): #省略運算子_，並執行31次()0~30\n",
    "#     #celsius.append(random.random()) #而module內有提供random方法method，但此法只能產生0~1之間亂數\n",
    "#     celsius.append(round(random.uniform(25,45),ndigits=2)) #round是內建函數\n",
    "\n",
    "#迴圈的另一種語法，稱為list comprehension包含\n",
    "#完整語法 : celsius = [round(random.uniform(25,45),ndigits=2) for x in range(31) if x > 15]\n",
    "celsius = [round(random.uniform(25,45),ndigits=2) for _ in range(31)]\n",
    "celsius\n",
    "\n",
    "\n",
    "\n",
    "\n",
    "\n",
    "\n",
    "\n",
    "\n",
    "\n"
   ]
  },
  {
   "cell_type": "code",
   "execution_count": null,
   "metadata": {},
   "outputs": [],
   "source": []
  }
 ],
 "metadata": {
  "kernelspec": {
   "display_name": "Python 3",
   "language": "python",
   "name": "python3"
  },
  "language_info": {
   "codemirror_mode": {
    "name": "ipython",
    "version": 3
   },
   "file_extension": ".py",
   "mimetype": "text/x-python",
   "name": "python",
   "nbconvert_exporter": "python",
   "pygments_lexer": "ipython3",
   "version": "3.10.12"
  },
  "orig_nbformat": 4
 },
 "nbformat": 4,
 "nbformat_minor": 2
}
