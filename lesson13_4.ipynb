{
 "cells": [
  {
   "cell_type": "code",
   "execution_count": 16,
   "metadata": {},
   "outputs": [
    {
     "data": {
      "text/plain": [
       "學生1     237\n",
       "學生2     210\n",
       "學生3     220\n",
       "學生4     233\n",
       "學生5     278\n",
       "學生6     257\n",
       "學生7     211\n",
       "學生8     280\n",
       "學生9     216\n",
       "學生10    211\n",
       "dtype: int64"
      ]
     },
     "metadata": {},
     "output_type": "display_data"
    },
    {
     "data": {
      "text/plain": [
       "array([237, 210, 220, 233, 278, 257, 211, 280, 216, 211])"
      ]
     },
     "metadata": {},
     "output_type": "display_data"
    },
    {
     "data": {
      "text/plain": [
       "Index(['學生1', '學生2', '學生3', '學生4', '學生5', '學生6', '學生7', '學生8', '學生9', '學生10'], dtype='object')"
      ]
     },
     "metadata": {},
     "output_type": "display_data"
    }
   ],
   "source": [
    "import numpy as np\n",
    "import pandas as pd\n",
    "np.random.randint(50,100,size=(10,5)) #10位學生的各科分數\n",
    "n1 = np.random.randint(200,300,size=(10,)) #(10,)是tuple\n",
    "s1 = pd.Series(data=n1, index= [f\"學生{i+1}\" for i in range(10)]) #產生學生編號索引，這是numpy所做不到的\n",
    "#[f\"學生{i}\" for i in range(10)]稱為Comprehension，用一行建立list \n",
    "display(s1)\n",
    "display(s1.values) #s1.values 是個1-d ndarray\n",
    "display(s1.index) #s1.index 是個 list (index)"
   ]
  },
  {
   "cell_type": "code",
   "execution_count": 23,
   "metadata": {},
   "outputs": [
    {
     "name": "stdout",
     "output_type": "stream",
     "text": [
      "ISO-8859-1\n",
      "['', '<!DOCTYPE HTML PUBLIC \"-//W3C//DTD HTML 4.01 Transitional//EN\"', '\"http://www.w3.org/TR/html4/loose.dtd\">', '<HTML lang=\"zh-TW\">', '<head>', '<!-- Google Tag Manager -->', \"<script>(function(w,d,s,l,i){w[l]=w[l]||[];w[l].push({'gtm.start':\", \"new Date().getTime(),event:'gtm.js'});var f=d.getElementsByTagName(s)[0],\", \"j=d.createElement(s),dl=l!='dataLayer'?'&l='+l:'';j.async=true;j.src=\", \"'https://www.googletagmanager.com/gtm.js?id='+i+dl;f.parentNode.insertBefore(j,f);\", \"})(window,document,'script','dataLayer','GTM-NG6DX9R');</script>\", '<!-- End Google Tag Manager -->', '<script src=\"https://www.googleoptimize.com/optimize.js?id=OPT-KCKTSSW\"></script>', '<!-- Google tag (gtag.js) -->', '<script async src=\"https://www.googletagmanager.com/gtag/js?id=G-KRGDNN2669\"></script>', '<script>', '  window.dataLayer = window.dataLayer || [];', '  function gtag(){dataLayer.push(arguments);}', \"  gtag('js', new Date());\", '', \"  gtag('config', 'G-KRGDNN2669');\", '</script>', '<!-- Global site tag (gtag.js) - Google Analytics -->', '<script async src=\"https://www.googletagmanager.com/gtag/js?id=UA-97269-4\"></script>', '<script>', '  window.dataLayer = window.dataLayer || [];', '  function gtag(){dataLayer.push(arguments);}', \"  gtag('js', new Date());\", '', \"  gtag('config', 'UA-97269-4');\", '</script>', '<title>����m�W���;� : �R�W�B�_�W�B���W�ѦҤu��- Chinese Name Generator </title>', '<meta name=\"keywords\" content=\"�R�W, �_�W, �m�W��, �m�W, ���W, ��W, �W�r, ����R�W, �R�W�n��, ���, �Ч@, ���W, �p��\">', '<meta name=\"description\" content=\"���ѹq���Ʋ��ͤ���m�W���ֳt����A��r�Ч@�̪��̷R�A���g�p���a�̱`�ϥΪ������u�㤧�@�C\">', '<meta http-equiv=\"Content-Type\" content=\"text/html; charset=big5\">', '<link rel=\"shortcut icon\" href=\"/favicon.ico\" />', '<script data-ad-client=\"ca-pub-8557565258139827\" async src=\"https://pagead2.googlesyndication.com/pagead/js/adsbygoogle.js\"></script>', '</head>', '<body bgcolor=\"white\">', '<!-- Google Tag Manager (noscript) -->', '<noscript><iframe src=\"https://www.googletagmanager.com/ns.html?id=GTM-NG6DX9R\"', 'height=\"0\" width=\"0\" style=\"display:none;visibility:hidden\"></iframe></noscript>', '<!-- End Google Tag Manager (noscript) -->', '<table width=\"700\" border=\"0\" align=\"center\">', '<tr>', '<td colspan=\"2\">', '<h1>����m�W���;� <a href=\"history.htm\">v3.4</a></h1>', '', ' <form name=\"form\" action=\"index.asp\" method=\"post\" >', '    <hr>', '    <table width=\"730\" border=\"0\" cellpadding=\"2\" cellspacing=\"0\">', '      <tr>', '        <td><div align=\"left\"><b>�Q���ͦh�֦W�r</b></div></td>', '        <td>', '          <div align=\"left\">', '            <select name=\"name_count\" class=\"11p\">', '                  <option value=\"10\">10</option>', '                  <option value=\"50\">50</option>', '                  <option value=\"100\" selected>100</option>', '                  <option value=\"200\">200</option>', '                  <option value=\"500\">500</option>', '                  <option value=\"1000\">1000</option>', '                  <option value=\"2000\">2000</option>', '                  <option value=\"5000\">5000</option>', '                  <option value=\"10000\">10000</option>', '                  <option value=\"20000\">20000</option>', '            </select>', '          </div></td>', '        <td><div align=\"center\"><b>�n�p����j</b> </div></td>', '        <td>', '          <div align=\"left\">', '            <select name=\"break\">', '                  <option value=\"1\" selected>���ιy���]�B�^</option>', '                  <option value=\"2 \">�b�γr�I�],�^</option>', '                  <option value=\"3\">�_��</option>', '                  <option value=\"4\">���W�����Ҧr��</option>', '            </select>', '          </div></td>', '        <td>', '          <div align=\"left\">', '            <input type=\"submit\" name=\"Submit\" value=\"�ֳt���ͦW�r�a�I\">', '          </div></td>', '        </tr>', '      <tr>', '        <td><div align=\"left\"><b>�ڭn�ۤv�M�w�m</b></div></td>', '        <td><div align=\"left\">', '          <input name=\"yourname\" type=\"text\" class=\"11p\" id=\"yourname\" value=\"\" size=\"4\" maxlength=\"4\">', '        </div></td>', '        <td colspan=\"3\"><div align=\"left\"><span class=\"style8\">�]�D���n�A�Y�n�̦�������R�W�A�ФT��I�^</span></div></td>', '        </tr>', '    </table>', '    <hr>', '   </form>', '</td>', '</tr>', '<tr><td colspan=\"2\">', '', '<p align=\"center\">', '', '<script type=\"text/javascript\"><!--', 'google_ad_client = \"ca-pub-8557565258139827\";', '/* Name - N 728 */', 'google_ad_slot = \"2963413935\";', 'google_ad_width = 728;', 'google_ad_height = 90;', '//-->', '</script>', '<script type=\"text/javascript\"', 'src=\"http://pagead2.googlesyndication.com/pagead/show_ads.js\">', '</script>', '', '</td></tr>', '<tr><td valign=\"top\">', '', '���_�o�B�i�ŭסB����ౡB�d�廨�B���ڧ¡B���ج��B����\\u07b3�B�����B���ӷ�B���Q��B�iã���B��էg�B�B�@�p�B���a�y�B�L�����B�L����B�B�a�ʡB���Φ��B�{�ɧg�B�����@�B�������B�G�ũ��B���w�c�B�¨̵��B���T�ʡB²���K�B�\\\\�Q�^�B��ۧʡB�I�ش��B���ŭ}�B�L�N�]�B���a��B���p���B�d�T�¡B���ۥ��B���R�H�B�L���@�B���N�ѡB�L��ݡB�������B�����n�B���R��B���t���B���L���B���v�Q�B��z�g�B���t�ߡB�����@�B�������B�ʫF�g�B���R�¡B�i���١B�\\\\�����B�����O�B�\\\\�ɤ��B���ͤ�B�L�i�¡B���|�a�B�i���]�B�����ӡB�L�����B�d�s��B���T�աB���۬áB���s�{�B�L�s�u�B�迷�t�B�����g�B�d�T�h�B�{��ӡB���z���B�L���O�B���_�K�B���zޱ�B���T�̡B�\\\\�r�q�B�\\\\���áB�P���t�B����\\u07b3�B�h�a��B�¨ΩɡB���ɾ�B���q�¡B�����k�B���u��B�������B����梡B�i��@�B���ӭ��B�����d�B�������B���Z�¡B������B�i���B²�ɦp�B�����ߡB�¦���B�i���ǡB�}�ڮ١B�������B���W�浲�����H�W�@����100�Ӥ���m�W�A���m���@��14�ӡA��Ҭ��G14%�]<a href=\"big_10.htm\">���`��Ҭ��b11%���k</a>�^�C ', '\\t\\t</td>', '\\t\\t<td valign=\"top\" width=\"300\">', '<script type=\"text/javascript\"><!--', 'google_ad_client = \"pub-8557565258139827\";', '/* Name-LREC-1 */', 'google_ad_slot = \"3476576480\";', 'google_ad_width = 300;', 'google_ad_height = 250;', '//-->', '</script>', '<script type=\"text/javascript\"', 'src=\"http://pagead2.googlesyndication.com/pagead/show_ads.js\">', '</script>', '', '<script type=\"text/javascript\"><!--', 'google_ad_client = \"pub-8557565258139827\";', '/* Name-LREC-2 */', 'google_ad_slot = \"9759194601\";', 'google_ad_width = 300;', 'google_ad_height = 250;', '//-->', '</script>', '<script type=\"text/javascript\"', 'src=\"http://pagead2.googlesyndication.com/pagead/show_ads.js\">', '</script>', '\\t\\t</td>', '\\t</tr>', '\\t<tr>', '\\t\\t<td colspan=\"2\">', '', '', '\\t\\t\\t<hr>', '<p><strong>�R�W���D�H�T�ֱM��</strong>�]��G�ۭt�^<br><br>', '\\t\\t\\t<a href=\"index.asp\">����R�W</a> | <a href=\"novel.asp\">�p���H���R�W</a> | <a href=\"novel.asp\">���W�R�W</a> |<a href=\"company.asp\"> ���~�R�W</a> | <a href=\"http://www.richyli.com/randomname/\">�^��W</a> <a href=\"http://www.richyli.com/randomname/\">Random Name Generator</a> | </p>', '<hr>', '\\t\\t\\t<p>�{�ɻݭn���y�ܦh����m�W�ܡ]<a href=\"usage.htm\">�Ψ�L�ݨD</a>�^�H�u����m�W���;��v�g�L�h�~�睊�A�i�z�L�üƲ��ͷ����G�u������m�W�W��A�ثe�i�H�զX<b>�O5000�U</b>�Ӥ��P������W�r�]�d�� <a href=\"sample1.htm\">1</a>, <a href=\"sample2.htm\">2</a>, <a href=\"sample3.htm\">3</a>, <a href=\"sample4.htm\">4</a>, <a href=\"sample5.htm\">5</a>, <a href=\"sample6.htm\">6</a>, <a href=\"sample7.htm\">7</a>�^�A�p�������ĳ�A<a href=\"../about/contact.htm\">�мg�H�i�D��</a>�A���¡I<br>', '\\t\\t\\t<br>�o���O�R�W�Ѯv�ΧK�O�R�W�n��A�Y�U��a���n�H�����z���s�ͨ�_�W�δ��ۤv��W�ɡA<strong>�аȥ��T��</strong>�A�קK����ѡC</p>', '\\t\\t\\t<hr>', '\\t\\t\\t<a href=\"usage.htm\">�\\\\��</a> | <a href=\"big_10.htm\">�x�W�Q�j�m��</a> | <a href=\"new_double_name.htm\">�s���Ʃm�X�{</a> | <a href=\"Hot_Yi.htm\">�������u�ɡv</a> | <a href=\"links.htm\">��������</a><p>', '\\t\\t\\t', '\\t\\t\\t<p id=\"pagenote\"><a href=\"../about/copyright.htm\" title=\"Copyright\">�O�d�����v�Q (Some rights reserved)</a>, 1996-2020, Richy Li. </p>', '\\t\\t</td>', '\\t</tr>', '</table>', '', '', '<script src=\"http://www.google-analytics.com/urchin.js\" type=\"text/javascript\">', '</script>', '<script type=\"text/javascript\">', '_uacct = \"UA-103495-7\";', 'urchinTracker();', '</script>', '</body></html>']\n"
     ]
    },
    {
     "data": {
      "text/plain": [
       "-1"
      ]
     },
     "execution_count": 23,
     "metadata": {},
     "output_type": "execute_result"
    }
   ],
   "source": [
    "import requests\n",
    "url = 'http://www.richyli.com/name/index.asp'\n",
    "response = requests.get(url)\n",
    "print(response.encoding) #'ISO-8859-1'is a big-5 encoding，not utf-8 encoding\n",
    "response.encoding = 'big-5'\n",
    "#print(response.text) #抓到的文字顯示亂碼，想辦法改成utf-8\n",
    "result = response.text.splitlines() #依照每行來切割並傳出list\n",
    "print(result)\n",
    "char_index = result[114].rfind('、') #文字在列114，同時抓出其全形頓號\"、\"的索引\n",
    "char_index #顯示-1表示沒這東西"
   ]
  },
  {
   "cell_type": "code",
   "execution_count": 26,
   "metadata": {},
   "outputs": [
    {
     "name": "stdout",
     "output_type": "stream",
     "text": [
      "李志杰、林家帆、蕭宏偉、楊珈平、王彥宏、王瑤謙、陳建銘、陳裕凱、李珊友、李曉薇、林妍來、施珮雯、駱吟定、蔡明安、李秀珍、李明軍、謝右凡、陳佳樺、吳堯虹、何剛光、柯海為、張德君、周桂辰、鄭美玉、賴允安、何怡欣、吳惠州、胡佳倩、林家仲、趙俊彥、林佳慧、劉志瑋、王宥添、金奇聖、林淑盈、江家豪、吳哲維、夏宜臻、陳佳霖、呂萱馨、郭柏青、曹喜淑、吳隆松、蔡文富、葉淑婷、全弘陽、勞怡廷、劉依婷、黃政俊、吳靜雯、李俊佑、郭翊年、陳美平、蔡燦菁、簡珮瑜、張世鑫、陳美枝、溫雅泰、王柏蘋、白羿火、林心怡、沈孟修、張祥康、吳志夫、楊志成、黃晴勳、李怡英、陳軒豪、李乃文、陳映珮、楊于婷、林珮君、夏俊翔、傅佳雯、張雅婷、吳蕙來、焦柏翰、呂雅玲、黃鳳珠、黃姿光、韓姵君、雲筱婷、陳智翔、林姿能、蔡旭聿、黃仁民、黃傑映、周榮鑫、郎智偉、林彥良、顏鳳珠、張聖凱、張佩玲、陳雅婷、丁韋伶、黃承翰、梁玉士、林雅婷、陳堅添、臧宏達\n"
     ]
    }
   ],
   "source": [
    "import requests\n",
    "import pandas as pd\n",
    "\n",
    "# 設定time為獲取中文姓名100筆的倍數。time=3，就是300筆的意思。\n",
    "times = 1\n",
    "cnames = []\n",
    "for x in range(times):\n",
    "    url = 'http://www.richyli.com/name/index.asp'\n",
    "    r = requests.get(url)\n",
    "    r.encoding = 'big5'\n",
    "    \n",
    "    # 將網頁中的資料以分行的方式存成文字檔\n",
    "    result = r.text.splitlines()\n",
    "    \n",
    "    # 114是中文姓名開始的列，找到最後一個「、」，設定成為字串的切片位置。\n",
    "    char_index = result[114].rfind(\"、\")\n",
    "    temp = result[114][:char_index]\n",
    "    \n",
    "    # 將temp的100筆姓名新增到cnames中\n",
    "    cnames.append(temp)\n",
    "\n",
    "# 將每100筆姓名的list加一個「、」，再組合成字串存到my_names中\n",
    "my_names = \"、\".join(str(x) for x in cnames)\n",
    "print(my_names)"
   ]
  },
  {
   "cell_type": "code",
   "execution_count": 27,
   "metadata": {},
   "outputs": [
    {
     "name": "stdout",
     "output_type": "stream",
     "text": [
      "<class 'str'>\n"
     ]
    }
   ],
   "source": [
    "import requests\n",
    "def getNames(num):\n",
    "    times = 1\n",
    "    cnames = []\n",
    "    for x in range(times):\n",
    "        url = 'http://www.richyli.com/name/index.asp'\n",
    "        r = requests.get(url)\n",
    "        r.encoding = 'big5'\n",
    "        \n",
    "        # 將網頁中的資料以分行的方式存成文字檔\n",
    "        result = r.text.splitlines()\n",
    "        \n",
    "        # 114是中文姓名開始的列，找到最後一個「、」，設定成為字串的切片位置。\n",
    "        char_index = result[114].rfind(\"、\")\n",
    "        temp = result[114][:char_index]\n",
    "        \n",
    "        # 將temp的100筆姓名新增到cnames中\n",
    "        cnames.append(temp)\n",
    "    print(type(cnames[0]))\n",
    "    names = cnames[0].split('、')\n",
    "    return names[:num]\n",
    "\n",
    "\n",
    "names = getNames(300)  "
   ]
  },
  {
   "cell_type": "code",
   "execution_count": null,
   "metadata": {},
   "outputs": [],
   "source": [
    "import numpy as np\n",
    "import pandas as pd\n",
    "\n",
    "n2 = np.random.randint(50,100,size=(50,5))\n",
    "dataFrame = pd.DataFrame(data=n2,\n",
    "             index=names[:50],\n",
    "             columns=[\"國文\",\"英文\",\"數學\",\"地理\",\"歷史\"]\n",
    "             )\n",
    "dataFrame"
   ]
  },
  {
   "cell_type": "code",
   "execution_count": 25,
   "metadata": {},
   "outputs": [
    {
     "data": {
      "text/plain": [
       "array([[80, 83, 55, 73, 85],\n",
       "       [52, 97, 89, 90, 63],\n",
       "       [96, 53, 85, 75, 57],\n",
       "       [53, 95, 63, 87, 75],\n",
       "       [88, 97, 90, 72, 62],\n",
       "       [78, 60, 89, 97, 98],\n",
       "       [90, 88, 75, 79, 56],\n",
       "       [62, 83, 97, 75, 79],\n",
       "       [98, 67, 91, 53, 50],\n",
       "       [87, 67, 65, 85, 63]])"
      ]
     },
     "execution_count": 25,
     "metadata": {},
     "output_type": "execute_result"
    }
   ],
   "source": [
    "import numpy as np\n",
    "import pandas as pd\n",
    "\n",
    "n2 = np.random.randint(50,100,size=(10,5)) #是2-d data，10個學生，每個有5個分數\n",
    "pd.DataFrame(data=n2,\n",
    "             index=getNames(50),\n",
    "             columns=)\n",
    "#s1 = pd.Series(data=n1, index= [f\"學生{i+1}\" for i in range(10)]) #產生學生編號索引，這是numpy所做不到的"
   ]
  },
  {
   "cell_type": "code",
   "execution_count": null,
   "metadata": {},
   "outputs": [],
   "source": []
  }
 ],
 "metadata": {
  "kernelspec": {
   "display_name": "Python 3",
   "language": "python",
   "name": "python3"
  },
  "language_info": {
   "codemirror_mode": {
    "name": "ipython",
    "version": 3
   },
   "file_extension": ".py",
   "mimetype": "text/x-python",
   "name": "python",
   "nbconvert_exporter": "python",
   "pygments_lexer": "ipython3",
   "version": "3.10.12"
  },
  "orig_nbformat": 4
 },
 "nbformat": 4,
 "nbformat_minor": 2
}
