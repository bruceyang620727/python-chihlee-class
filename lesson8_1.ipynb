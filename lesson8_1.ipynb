{
 "cells": [
  {
   "cell_type": "code",
   "execution_count": 1,
   "metadata": {},
   "outputs": [
    {
     "data": {
      "text/plain": [
       "[[86, 63, 76, 52, 85],\n",
       " [70, 88, 67, 75, 68],\n",
       " [64, 70, 60, 78, 83],\n",
       " [53, 60, 55, 66, 74],\n",
       " [82, 77, 56, 84, 69],\n",
       " [83, 95, 74, 54, 60],\n",
       " [58, 63, 79, 63, 100],\n",
       " [80, 66, 57, 84, 55],\n",
       " [59, 56, 92, 88, 79],\n",
       " [59, 60, 75, 90, 77],\n",
       " [92, 67, 93, 53, 65],\n",
       " [78, 94, 95, 56, 63],\n",
       " [94, 54, 89, 84, 54],\n",
       " [71, 75, 58, 68, 56],\n",
       " [98, 57, 69, 66, 92],\n",
       " [63, 58, 89, 70, 62],\n",
       " [70, 74, 96, 72, 88],\n",
       " [97, 94, 61, 79, 65],\n",
       " [71, 53, 92, 54, 77],\n",
       " [82, 63, 94, 98, 89],\n",
       " [69, 61, 72, 78, 81],\n",
       " [89, 84, 50, 56, 79],\n",
       " [89, 96, 95, 92, 84],\n",
       " [80, 52, 50, 58, 65],\n",
       " [98, 60, 51, 67, 75],\n",
       " [97, 77, 57, 84, 82],\n",
       " [76, 76, 73, 83, 74],\n",
       " [91, 90, 90, 59, 66],\n",
       " [97, 96, 95, 53, 60],\n",
       " [67, 73, 93, 74, 50],\n",
       " [91, 69, 86, 66, 71],\n",
       " [58, 78, 62, 81, 77],\n",
       " [95, 68, 91, 59, 86],\n",
       " [94, 61, 99, 56, 83],\n",
       " [97, 97, 64, 88, 67],\n",
       " [80, 81, 67, 79, 91],\n",
       " [93, 68, 54, 91, 58],\n",
       " [85, 54, 84, 88, 86],\n",
       " [80, 64, 95, 70, 53],\n",
       " [55, 62, 57, 64, 58],\n",
       " [83, 96, 60, 58, 60],\n",
       " [99, 86, 93, 61, 67],\n",
       " [89, 70, 89, 50, 63],\n",
       " [85, 72, 85, 65, 66],\n",
       " [81, 60, 60, 69, 74],\n",
       " [55, 96, 94, 63, 63],\n",
       " [65, 95, 67, 74, 69],\n",
       " [53, 92, 89, 64, 60],\n",
       " [81, 81, 67, 80, 71],\n",
       " [91, 91, 85, 55, 51]]"
      ]
     },
     "execution_count": 1,
     "metadata": {},
     "output_type": "execute_result"
    }
   ],
   "source": [
    "import random\n",
    "students  = []\n",
    "for _  in range(50):\n",
    "    stu = list()\n",
    "    for _ in range(5):\n",
    "        stu.append(random.randint(50,  100))\n",
    "    students.append(stu)\n",
    "students"
   ]
  },
  {
   "cell_type": "code",
   "execution_count": 2,
   "metadata": {},
   "outputs": [],
   "source": [
    "import csv\n",
    "csv_write_file = open('students.csv',newline='',mode='w',encoding='utf-8') #先建立file物件\n",
    "csv_writer = csv.writer(csv_write_file) #再建立writer物件，並告知file物件在哪\n",
    "csv_writer.writerow(['國文','英文','數學','地理','歷史']) #writerow是實體方法\n",
    "csv_writer.writerows(students) #writerows是實體方法\n",
    "csv_write_file.close()"
   ]
  },
  {
   "cell_type": "code",
   "execution_count": null,
   "metadata": {},
   "outputs": [],
   "source": []
  }
 ],
 "metadata": {
  "kernelspec": {
   "display_name": "Python 3",
   "language": "python",
   "name": "python3"
  },
  "language_info": {
   "codemirror_mode": {
    "name": "ipython",
    "version": 3
   },
   "file_extension": ".py",
   "mimetype": "text/x-python",
   "name": "python",
   "nbconvert_exporter": "python",
   "pygments_lexer": "ipython3",
   "version": "3.10.8"
  },
  "orig_nbformat": 4
 },
 "nbformat": 4,
 "nbformat_minor": 2
}
