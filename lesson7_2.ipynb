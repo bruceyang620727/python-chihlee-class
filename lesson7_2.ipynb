{
 "cells": [
  {
   "cell_type": "code",
   "execution_count": 1,
   "metadata": {},
   "outputs": [
    {
     "data": {
      "text/plain": [
       "68"
      ]
     },
     "execution_count": 1,
     "metadata": {},
     "output_type": "execute_result"
    }
   ],
   "source": [
    "import random\n",
    "random.randint(50, 100)"
   ]
  },
  {
   "cell_type": "code",
   "execution_count": 2,
   "metadata": {},
   "outputs": [
    {
     "data": {
      "text/plain": [
       "[95, 58, 70, 74, 65]"
      ]
     },
     "execution_count": 2,
     "metadata": {},
     "output_type": "execute_result"
    }
   ],
   "source": [
    "stu1 = list()\n",
    "for _ in range(5):\n",
    "    stu1.append(random.randint(50,  100))\n",
    "stu1"
   ]
  },
  {
   "cell_type": "code",
   "execution_count": 3,
   "metadata": {},
   "outputs": [
    {
     "data": {
      "text/plain": [
       "[[64, 90, 52, 66, 54],\n",
       " [95, 70, 96, 57, 68],\n",
       " [81, 73, 97, 67, 63],\n",
       " [60, 100, 59, 53, 74],\n",
       " [98, 91, 66, 91, 56],\n",
       " [71, 56, 52, 71, 93],\n",
       " [61, 67, 90, 60, 95],\n",
       " [68, 85, 97, 63, 76],\n",
       " [54, 74, 65, 75, 57],\n",
       " [63, 61, 79, 89, 74],\n",
       " [64, 77, 63, 75, 50],\n",
       " [50, 80, 75, 58, 79],\n",
       " [59, 51, 63, 74, 98],\n",
       " [77, 84, 63, 79, 100],\n",
       " [66, 58, 88, 68, 56],\n",
       " [72, 68, 88, 80, 99],\n",
       " [95, 51, 51, 68, 84],\n",
       " [77, 90, 88, 54, 81],\n",
       " [57, 84, 68, 84, 70],\n",
       " [84, 100, 100, 61, 89],\n",
       " [81, 97, 65, 66, 87],\n",
       " [77, 71, 100, 92, 58],\n",
       " [51, 78, 98, 98, 59],\n",
       " [64, 86, 60, 77, 71],\n",
       " [96, 69, 68, 100, 52],\n",
       " [74, 52, 98, 52, 85],\n",
       " [77, 83, 71, 89, 73],\n",
       " [66, 55, 81, 50, 91],\n",
       " [98, 87, 94, 50, 73],\n",
       " [91, 81, 91, 65, 51],\n",
       " [91, 57, 92, 87, 91],\n",
       " [85, 91, 100, 82, 98],\n",
       " [77, 91, 56, 80, 53],\n",
       " [56, 50, 64, 85, 64],\n",
       " [98, 61, 81, 86, 95],\n",
       " [51, 92, 65, 97, 84],\n",
       " [78, 81, 63, 80, 86],\n",
       " [88, 70, 83, 90, 93],\n",
       " [81, 75, 61, 61, 54],\n",
       " [57, 67, 67, 84, 81],\n",
       " [77, 78, 60, 94, 56],\n",
       " [64, 51, 75, 83, 64],\n",
       " [75, 64, 56, 82, 91],\n",
       " [98, 85, 73, 94, 62],\n",
       " [85, 93, 60, 74, 98],\n",
       " [58, 83, 65, 78, 82],\n",
       " [77, 87, 95, 58, 98],\n",
       " [68, 91, 99, 66, 79],\n",
       " [89, 50, 78, 78, 56],\n",
       " [88, 60, 91, 69, 75]]"
      ]
     },
     "execution_count": 3,
     "metadata": {},
     "output_type": "execute_result"
    }
   ],
   "source": [
    "students  = []\n",
    "for _  in range(50):\n",
    "    stu = list()\n",
    "    for _ in range(5):\n",
    "        stu.append(random.randint(50,  100)) #也可以這樣寫 scores += [random.randint(50,100)]\n",
    "    students.append(stu) #students.append([70,70,70,70,70]) \n",
    "students"
   ]
  },
  {
   "cell_type": "code",
   "execution_count": 1,
   "metadata": {},
   "outputs": [],
   "source": [
    "text = '''python與中文\n",
    "1. 我們來試試看中文儲存能力。\n",
    "2. 許這個字會有編碼衝突風險。\n",
    "3. 犇這個字必須是utf8編碼才有。'''\n",
    "\n",
    "file = open('hello.txt',mode='w',encoding=\"utf-8\")\n",
    "print(text,file=file)\n",
    "file.close()"
   ]
  },
  {
   "cell_type": "code",
   "execution_count": 2,
   "metadata": {},
   "outputs": [],
   "source": [
    "file = open('hello1.txt',mode='w',encoding=\"utf-8\")\n",
    "file.write(\"這是第一行\\n\")\n",
    "file.write(\"這是第二行\\n\")\n",
    "file.writelines(\"\"\"這是第三行\n",
    "這是第四行\n",
    "這是第五行\n",
    "\"\"\")\n",
    "file.close()"
   ]
  },
  {
   "cell_type": "code",
   "execution_count": 3,
   "metadata": {},
   "outputs": [
    {
     "name": "stdout",
     "output_type": "stream",
     "text": [
      "這是第一行\n",
      "這是第二行\n",
      "這是第三行\n",
      "這是第四行\n",
      "這是第五行\n",
      "\n"
     ]
    }
   ],
   "source": [
    "file = open('hello1.txt',mode='r',encoding=\"utf-8\")\n",
    "all_text = file.read()\n",
    "print(all_text)"
   ]
  },
  {
   "cell_type": "code",
   "execution_count": null,
   "metadata": {},
   "outputs": [],
   "source": []
  }
 ],
 "metadata": {
  "kernelspec": {
   "display_name": "Python 3",
   "language": "python",
   "name": "python3"
  },
  "language_info": {
   "codemirror_mode": {
    "name": "ipython",
    "version": 3
   },
   "file_extension": ".py",
   "mimetype": "text/x-python",
   "name": "python",
   "nbconvert_exporter": "python",
   "pygments_lexer": "ipython3",
   "version": "3.10.8"
  },
  "orig_nbformat": 4
 },
 "nbformat": 4,
 "nbformat_minor": 2
}
