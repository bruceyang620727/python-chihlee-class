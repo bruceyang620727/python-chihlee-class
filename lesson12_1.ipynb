{
 "cells": [
  {
   "cell_type": "code",
   "execution_count": 4,
   "metadata": {},
   "outputs": [
    {
     "data": {
      "text/plain": [
       "['國文', '英文', '數學', '歷史', '探索']"
      ]
     },
     "execution_count": 4,
     "metadata": {},
     "output_type": "execute_result"
    }
   ],
   "source": [
    "import matplotlib.pyplot as plt\n",
    "from matplotlib.font_manager import FontProperties #中文\n",
    "#font = FontProperties('fname='/usr/share/fonts/truetype/dejavu/DejaVuSans.ttf',size=8) #Mac建立字型\n",
    "#font1 = FontProperties('fname='/usr/share/fonts/truetype/dejavu/DejaVuSans.ttf',size=12) #Mac建立字型\n",
    "font = FontProperties(fname=r'c:\\windows\\fonts\\simsun.ttc',size=8) #Win建立字型\n",
    "font1 = FontProperties(fname=r'c:\\windows\\fonts\\simsun.ttc',size=12) #Win建立字型\n",
    "\n",
    "student1 = {'國文':78, '英文':80, '數學':92, '歷史':75, '探索':85}\n",
    "student2 = {'國文':90, '英文':75, '數學':98, '歷史':65, '探索':75}\n",
    "subjects = list(student1.keys()) #直接轉成list\n",
    "value1 = list(student1.values()) #一樣透過list將like-list的student1.values()轉成list\n",
    "value2 = list(student2.values())\n",
    "\n",
    "subjects #看能否順利輸出，結果是可以的"
   ]
  }
 ],
 "metadata": {
  "kernelspec": {
   "display_name": "Python 3",
   "language": "python",
   "name": "python3"
  },
  "language_info": {
   "codemirror_mode": {
    "name": "ipython",
    "version": 3
   },
   "file_extension": ".py",
   "mimetype": "text/x-python",
   "name": "python",
   "nbconvert_exporter": "python",
   "pygments_lexer": "ipython3",
   "version": "3.10.12"
  },
  "orig_nbformat": 4
 },
 "nbformat": 4,
 "nbformat_minor": 2
}
