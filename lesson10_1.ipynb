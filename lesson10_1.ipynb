{
 "cells": [
  {
   "cell_type": "code",
   "execution_count": 6,
   "metadata": {},
   "outputs": [
    {
     "name": "stdout",
     "output_type": "stream",
     "text": [
      "<class 'dict'>\n"
     ]
    }
   ],
   "source": [
    "import json\n",
    "with open('F-C0032-001.json',encoding='utf-8') as file:\n",
    "    #print(file.readlines()) #此招抓出的資料型態為list\n",
    "    json_str = file.read() #抓出來的資料是字串\n",
    "    weather = json.loads(json_str) #利用json.loads一次載入所有的字串，並傳出給weather，並且weather為dict資料型態\n",
    "    #但是因為太複雜了，因此直接複製json文字到python json viewer來看這資料轉成python後的結構\n",
    "print(type(weather))\n",
    "    #for item in file.readlines(): #發現裡面的資料是字串，但我們需要的是dict\n",
    "    #    print(type(item)) #發現裡面的資料是字串，但我們需要的是dict\n",
    "\n"
   ]
  },
  {
   "cell_type": "code",
   "execution_count": null,
   "metadata": {},
   "outputs": [],
   "source": []
  },
  {
   "cell_type": "code",
   "execution_count": null,
   "metadata": {},
   "outputs": [],
   "source": []
  }
 ],
 "metadata": {
  "kernelspec": {
   "display_name": "Python 3",
   "language": "python",
   "name": "python3"
  },
  "language_info": {
   "codemirror_mode": {
    "name": "ipython",
    "version": 3
   },
   "file_extension": ".py",
   "mimetype": "text/x-python",
   "name": "python",
   "nbconvert_exporter": "python",
   "pygments_lexer": "ipython3",
   "version": "3.10.8"
  },
  "orig_nbformat": 4
 },
 "nbformat": 4,
 "nbformat_minor": 2
}
