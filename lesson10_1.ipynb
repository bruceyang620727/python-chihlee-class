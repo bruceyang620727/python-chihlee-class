{
 "cells": [
  {
   "cell_type": "code",
   "execution_count": 13,
   "metadata": {},
   "outputs": [
    {
     "name": "stdout",
     "output_type": "stream",
     "text": [
      "<class 'dict'>\n"
     ]
    },
    {
     "data": {
      "text/plain": [
       "list"
      ]
     },
     "execution_count": 13,
     "metadata": {},
     "output_type": "execute_result"
    }
   ],
   "source": [
    "import json\n",
    "with open('F-C0032-001.json',encoding='utf-8') as file:\n",
    "    #print(file.readlines()) #此招抓出的資料型態為list\n",
    "    json_str = file.read() #抓出來的資料是字串\n",
    "    weather = json.loads(json_str) #利用json.loads一次載入所有的字串，並傳出給weather，並且weather為dict資料型態\n",
    "    #但是因為太複雜了，因此直接複製json文字到python json viewer來看這資料轉成python後的結構\n",
    "print(type(weather))\n",
    "#for item in file.readlines(): #發現裡面的資料是字串，但我們需要的是dict\n",
    "#print(type(item)) #發現裡面的資料是字串，但我們需要的是dict\n"
   ]
  },
  {
   "cell_type": "code",
   "execution_count": 17,
   "metadata": {},
   "outputs": [
    {
     "data": {
      "text/plain": [
       "[{'城市': '臺北市'},\n",
       " {'城市': '新北市'},\n",
       " {'城市': '桃園市'},\n",
       " {'城市': '臺中市'},\n",
       " {'城市': '臺南市'},\n",
       " {'城市': '高雄市'},\n",
       " {'城市': '基隆市'},\n",
       " {'城市': '新竹縣'},\n",
       " {'城市': '新竹市'},\n",
       " {'城市': '苗栗縣'},\n",
       " {'城市': '彰化縣'},\n",
       " {'城市': '南投縣'},\n",
       " {'城市': '雲林縣'},\n",
       " {'城市': '嘉義縣'},\n",
       " {'城市': '嘉義市'},\n",
       " {'城市': '屏東縣'},\n",
       " {'城市': '宜蘭縣'},\n",
       " {'城市': '花蓮縣'},\n",
       " {'城市': '臺東縣'},\n",
       " {'城市': '澎湖縣'},\n",
       " {'城市': '金門縣'},\n",
       " {'城市': '連江縣'}]"
      ]
     },
     "execution_count": 17,
     "metadata": {},
     "output_type": "execute_result"
    }
   ],
   "source": [
    "weather['cwbopendata']['sent'] #抓到'2023-07-23T16:42:01+08:00'，但這都不是我們要的\n",
    "location = weather['cwbopendata']['dataset']['location'] #location是一個list資料結構，是我們要的，因此用變數location來接收\n",
    "weather_list = [] #希望建立外部為list，而內部是dict的資料結構\n",
    "for item in location: #既然location是list也就是sequence，因此可以用for in來抓資料\n",
    "    city_item = {} #希望建立內部是dict的資料結構\n",
    "    city_item['城市'] = item['locationName']\n",
    "    weather_list.append(city_item)\n",
    "    #print(item) #由online json viewer看出locaion下的21個地點資料都是dict\n",
    "\n",
    "weather_list"
   ]
  },
  {
   "cell_type": "code",
   "execution_count": null,
   "metadata": {},
   "outputs": [],
   "source": []
  },
  {
   "cell_type": "code",
   "execution_count": null,
   "metadata": {},
   "outputs": [],
   "source": []
  },
  {
   "cell_type": "code",
   "execution_count": null,
   "metadata": {},
   "outputs": [],
   "source": []
  },
  {
   "cell_type": "code",
   "execution_count": null,
   "metadata": {},
   "outputs": [],
   "source": []
  },
  {
   "cell_type": "code",
   "execution_count": null,
   "metadata": {},
   "outputs": [],
   "source": []
  },
  {
   "cell_type": "code",
   "execution_count": null,
   "metadata": {},
   "outputs": [],
   "source": []
  }
 ],
 "metadata": {
  "kernelspec": {
   "display_name": "Python 3",
   "language": "python",
   "name": "python3"
  },
  "language_info": {
   "codemirror_mode": {
    "name": "ipython",
    "version": 3
   },
   "file_extension": ".py",
   "mimetype": "text/x-python",
   "name": "python",
   "nbconvert_exporter": "python",
   "pygments_lexer": "ipython3",
   "version": "3.10.8"
  },
  "orig_nbformat": 4
 },
 "nbformat": 4,
 "nbformat_minor": 2
}
