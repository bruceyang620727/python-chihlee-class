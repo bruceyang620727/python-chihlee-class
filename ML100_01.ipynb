{
 "cells": [
  {
   "cell_type": "code",
   "execution_count": 1,
   "metadata": {},
   "outputs": [
    {
     "name": "stdout",
     "output_type": "stream",
     "text": [
      "<module 'numpy' from '/home/codespace/.local/lib/python3.10/site-packages/numpy/__init__.py'>\n",
      "1.24.3\n"
     ]
    }
   ],
   "source": [
    "\n",
    "# 載入 NumPy 套件\n",
    "import numpy as np\n",
    "\n",
    "# 檢查正確載入與版本\n",
    "print(np)\n",
    "print(np.__version__)"
   ]
  },
  {
   "cell_type": "code",
   "execution_count": 2,
   "metadata": {},
   "outputs": [
    {
     "name": "stdout",
     "output_type": "stream",
     "text": [
      "[[ 0  1  2  3  4]\n",
      " [ 5  6  7  8  9]\n",
      " [10 11 12 13 14]]\n"
     ]
    },
    {
     "data": {
      "text/plain": [
       "array([[ 0,  1,  2,  3,  4],\n",
       "       [ 5,  6,  7,  8,  9],\n",
       "       [10, 11, 12, 13, 14]])"
      ]
     },
     "execution_count": 2,
     "metadata": {},
     "output_type": "execute_result"
    }
   ],
   "source": [
    "# 從一個陣列開始\n",
    "\n",
    "a = np.arange(15).reshape(3, 5)\n",
    "print(a) # 利用 print(...) 印出陣列\n",
    "a # 利用 Jupyter 印出陣列"
   ]
  },
  {
   "cell_type": "code",
   "execution_count": 3,
   "metadata": {},
   "outputs": [
    {
     "name": "stdout",
     "output_type": "stream",
     "text": [
      "ndim:  2\n",
      "shape:  (3, 5)\n",
      "size:  15\n",
      "dtype:  int64\n",
      "itemsize:  8\n",
      "data:  <memory at 0x7f75dd1e6e90>\n"
     ]
    }
   ],
   "source": [
    "\n",
    "print('ndim: ', a.ndim)\n",
    "print('shape: ', a.shape)\n",
    "print('size: ', a.size)\n",
    "print('dtype: ', a.dtype)\n",
    "print('itemsize: ', a.itemsize)\n",
    "print('data: ', a.data)"
   ]
  },
  {
   "cell_type": "code",
   "execution_count": 4,
   "metadata": {},
   "outputs": [
    {
     "name": "stdout",
     "output_type": "stream",
     "text": [
      "list(a):  [array([0, 1, 2, 3, 4]), array([5, 6, 7, 8, 9]), array([10, 11, 12, 13, 14])]\n",
      "tolist():  [[0, 1, 2, 3, 4], [5, 6, 7, 8, 9], [10, 11, 12, 13, 14]]\n"
     ]
    }
   ],
   "source": [
    "# List 與 Array 的轉換\n",
    "\n",
    "print('list(a): ', list(a))\n",
    "print('tolist(): ', a.tolist())"
   ]
  },
  {
   "cell_type": "code",
   "execution_count": 5,
   "metadata": {},
   "outputs": [],
   "source": [
    "b = np.arange(12)"
   ]
  },
  {
   "cell_type": "code",
   "execution_count": 6,
   "metadata": {},
   "outputs": [
    {
     "data": {
      "text/plain": [
       "array([ 0,  1,  2,  3,  4,  5,  6,  7,  8,  9, 10, 11])"
      ]
     },
     "execution_count": 6,
     "metadata": {},
     "output_type": "execute_result"
    }
   ],
   "source": [
    "b"
   ]
  },
  {
   "cell_type": "code",
   "execution_count": 7,
   "metadata": {},
   "outputs": [
    {
     "data": {
      "text/plain": [
       "[0, 1, 2, 3, 4, 5, 6, 7, 8, 9, 10, 11]"
      ]
     },
     "execution_count": 7,
     "metadata": {},
     "output_type": "execute_result"
    }
   ],
   "source": [
    "list(b)"
   ]
  },
  {
   "cell_type": "code",
   "execution_count": 8,
   "metadata": {},
   "outputs": [
    {
     "data": {
      "text/plain": [
       "array([[ 0,  1,  2,  3],\n",
       "       [ 4,  5,  6,  7],\n",
       "       [ 8,  9, 10, 11]])"
      ]
     },
     "execution_count": 8,
     "metadata": {},
     "output_type": "execute_result"
    }
   ],
   "source": [
    "b.reshape(3,4)"
   ]
  },
  {
   "cell_type": "code",
   "execution_count": 9,
   "metadata": {},
   "outputs": [
    {
     "data": {
      "text/plain": [
       "[array([0, 1, 2, 3]), array([4, 5, 6, 7]), array([ 8,  9, 10, 11])]"
      ]
     },
     "execution_count": 9,
     "metadata": {},
     "output_type": "execute_result"
    }
   ],
   "source": [
    "list(b.reshape(3,4))"
   ]
  },
  {
   "cell_type": "code",
   "execution_count": 10,
   "metadata": {},
   "outputs": [
    {
     "data": {
      "text/plain": [
       "list"
      ]
     },
     "execution_count": 10,
     "metadata": {},
     "output_type": "execute_result"
    }
   ],
   "source": [
    "type(list(b.reshape(3,4)))"
   ]
  },
  {
   "cell_type": "code",
   "execution_count": 11,
   "metadata": {},
   "outputs": [
    {
     "data": {
      "text/plain": [
       "[[0, 1, 2, 3], [4, 5, 6, 7], [8, 9, 10, 11]]"
      ]
     },
     "execution_count": 11,
     "metadata": {},
     "output_type": "execute_result"
    }
   ],
   "source": [
    "(b.reshape(3,4)).tolist()"
   ]
  },
  {
   "cell_type": "code",
   "execution_count": 12,
   "metadata": {},
   "outputs": [],
   "source": [
    "b = np.random.randint(10, size=(3,4)) "
   ]
  },
  {
   "cell_type": "code",
   "execution_count": 13,
   "metadata": {},
   "outputs": [
    {
     "name": "stdout",
     "output_type": "stream",
     "text": [
      "印出的結果:\n",
      " [[2 4 6 0]\n",
      " [3 6 4 3]\n",
      " [5 3 7 8]]\n",
      "陣列的維度:ndim → 2\n",
      "陣列的維度大小:shape → (3, 4)\n",
      "陣列中的元素個數:size → 12\n",
      "陣列中的資料型態:dtype → int64\n",
      "陣列中的元素占用空間: itemsize → 8\n",
      "陣列的長度: length → 3\n",
      "陣列的類型: type → <class 'numpy.ndarray'>\n"
     ]
    }
   ],
   "source": [
    "print(f'印出的結果:\\n {b}')\n",
    "print(f'陣列的維度:ndim → {b.ndim}')\n",
    "print(f'陣列的維度大小:shape → {b.shape}')\n",
    "print(f'陣列中的元素個數:size → {b.size}')\n",
    "print(f'陣列中的資料型態:dtype → {b.dtype}')\n",
    "print(f'陣列中的元素占用空間: itemsize → {b.itemsize}')\n",
    "print(f'陣列的長度: length → {len(b)}')\n",
    "print(f'陣列的類型: type → {type(b)}')"
   ]
  },
  {
   "cell_type": "code",
   "execution_count": 14,
   "metadata": {},
   "outputs": [
    {
     "name": "stdout",
     "output_type": "stream",
     "text": [
      "印出的結果:\n",
      " [[[6 6]\n",
      "  [6 4]\n",
      "  [2 5]]\n",
      "\n",
      " [[9 2]\n",
      "  [7 8]\n",
      "  [2 8]]]\n",
      "陣列的維度:ndim → 3\n",
      "陣列的維度大小:shape → (2, 3, 2)\n",
      "陣列中的元素個數:size → 12\n",
      "陣列中的資料型態:dtype → int64\n",
      "陣列中的元素占用空間: itemsize → 8\n",
      "陣列的長度: length → 2\n",
      "陣列的類型: type → <class 'numpy.ndarray'>\n"
     ]
    }
   ],
   "source": [
    "c = np.random.randint(10, size=(2,3,2)) \n",
    "\n",
    "print(f'印出的結果:\\n {c}')\n",
    "print(f'陣列的維度:ndim → {c.ndim}')\n",
    "print(f'陣列的維度大小:shape → {c.shape}')\n",
    "print(f'陣列中的元素個數:size → {c.size}')\n",
    "print(f'陣列中的資料型態:dtype → {c.dtype}')\n",
    "print(f'陣列中的元素占用空間: itemsize → {c.itemsize}')\n",
    "print(f'陣列的長度: length → {len(c)}')\n",
    "print(f'陣列的類型: type → {type(c)}')"
   ]
  },
  {
   "cell_type": "code",
   "execution_count": 16,
   "metadata": {},
   "outputs": [
    {
     "name": "stdout",
     "output_type": "stream",
     "text": [
      "[91, 49, 97, 50, 0, 67]\n",
      "[91, 49, 97, 50, 0, 67]\n"
     ]
    }
   ],
   "source": [
    "#如何利用 list(...) 實現 a.tolist() 的效果？試著用程式實作。\n",
    "import numpy as np\n",
    "a = np.random.randint(100, size = 6)\n",
    "print(list(a))\n",
    "print(a.tolist())"
   ]
  },
  {
   "cell_type": "code",
   "execution_count": 18,
   "metadata": {},
   "outputs": [
    {
     "name": "stdout",
     "output_type": "stream",
     "text": [
      "<class 'list'>\n",
      "<class 'list'>\n"
     ]
    }
   ],
   "source": [
    "print(type(list(a)))\n",
    "print(type(a.tolist()))"
   ]
  },
  {
   "cell_type": "code",
   "execution_count": 19,
   "metadata": {},
   "outputs": [],
   "source": [
    "b = np.random.randint(100, size = (3,4))"
   ]
  },
  {
   "cell_type": "code",
   "execution_count": 20,
   "metadata": {},
   "outputs": [
    {
     "name": "stdout",
     "output_type": "stream",
     "text": [
      "[array([25,  8, 24, 83]), array([22, 20, 99,  2]), array([ 2, 12, 37, 15])]\n"
     ]
    }
   ],
   "source": [
    "print(list(b))"
   ]
  },
  {
   "cell_type": "code",
   "execution_count": 21,
   "metadata": {},
   "outputs": [
    {
     "data": {
      "text/plain": [
       "list"
      ]
     },
     "execution_count": 21,
     "metadata": {},
     "output_type": "execute_result"
    }
   ],
   "source": [
    "type(list(b))"
   ]
  },
  {
   "cell_type": "code",
   "execution_count": 22,
   "metadata": {},
   "outputs": [
    {
     "data": {
      "text/plain": [
       "<function ndarray.tolist>"
      ]
     },
     "execution_count": 22,
     "metadata": {},
     "output_type": "execute_result"
    }
   ],
   "source": [
    "b.tolist"
   ]
  },
  {
   "cell_type": "code",
   "execution_count": 24,
   "metadata": {},
   "outputs": [
    {
     "name": "stdout",
     "output_type": "stream",
     "text": [
      "[[25, 8, 24, 83], [22, 20, 99, 2], [2, 12, 37, 15]]\n"
     ]
    }
   ],
   "source": [
    "print(b.tolist())"
   ]
  },
  {
   "cell_type": "code",
   "execution_count": 25,
   "metadata": {},
   "outputs": [],
   "source": [
    "c = np.random.randint(100, size = (2,3,4))"
   ]
  },
  {
   "cell_type": "code",
   "execution_count": 26,
   "metadata": {},
   "outputs": [
    {
     "name": "stdout",
     "output_type": "stream",
     "text": [
      "[array([[28, 35, 39,  7],\n",
      "       [ 4, 87, 17, 25],\n",
      "       [83, 25, 13, 97]]), array([[26, 58, 47, 90],\n",
      "       [58, 73,  6, 79],\n",
      "       [18, 63,  3, 88]])]\n"
     ]
    }
   ],
   "source": [
    "print(list(c))"
   ]
  },
  {
   "cell_type": "code",
   "execution_count": 27,
   "metadata": {},
   "outputs": [
    {
     "name": "stdout",
     "output_type": "stream",
     "text": [
      "[[[28, 35, 39, 7], [4, 87, 17, 25], [83, 25, 13, 97]], [[26, 58, 47, 90], [58, 73, 6, 79], [18, 63, 3, 88]]]\n"
     ]
    }
   ],
   "source": [
    "print(c.tolist())"
   ]
  },
  {
   "cell_type": "code",
   "execution_count": 28,
   "metadata": {},
   "outputs": [
    {
     "name": "stdout",
     "output_type": "stream",
     "text": [
      "[91 49 97 50  0 67]\n"
     ]
    }
   ],
   "source": [
    "print(a)"
   ]
  },
  {
   "cell_type": "code",
   "execution_count": 29,
   "metadata": {},
   "outputs": [
    {
     "name": "stdout",
     "output_type": "stream",
     "text": [
      "[[25  8 24 83]\n",
      " [22 20 99  2]\n",
      " [ 2 12 37 15]]\n"
     ]
    }
   ],
   "source": [
    "print(b)"
   ]
  },
  {
   "cell_type": "code",
   "execution_count": 30,
   "metadata": {},
   "outputs": [
    {
     "name": "stdout",
     "output_type": "stream",
     "text": [
      "[[[28 35 39  7]\n",
      "  [ 4 87 17 25]\n",
      "  [83 25 13 97]]\n",
      "\n",
      " [[26 58 47 90]\n",
      "  [58 73  6 79]\n",
      "  [18 63  3 88]]]\n"
     ]
    }
   ],
   "source": [
    "print(c)"
   ]
  },
  {
   "cell_type": "code",
   "execution_count": 31,
   "metadata": {},
   "outputs": [
    {
     "name": "stdout",
     "output_type": "stream",
     "text": [
      "[91, 49, 97, 50, 0, 67]\n",
      "[[25, 8, 24, 83], [22, 20, 99, 2], [2, 12, 37, 15]]\n",
      "[[[28, 35, 39, 7], [4, 87, 17, 25], [83, 25, 13, 97]], [[26, 58, 47, 90], [58, 73, 6, 79], [18, 63, 3, 88]]]\n"
     ]
    }
   ],
   "source": [
    "def tolist(iterable):#by 遞迴+for迴圈\n",
    "    #判斷是不是陣列\n",
    "    if type(iterable) !=np.ndarray:\n",
    "        return iterable\n",
    "    \n",
    "    newData=[]#給一個新的陣列\n",
    "    for i in iterable:\n",
    "        newData.append(tolist(i))\n",
    "        #顯示程式如何轉 print(newData)\n",
    "    return newData\n",
    "    \n",
    "print(tolist(a))\n",
    "print(tolist(b))\n",
    "print(tolist(c))"
   ]
  },
  {
   "cell_type": "code",
   "execution_count": 4,
   "metadata": {},
   "outputs": [],
   "source": [
    "import numpy as np\n",
    "a = np.random.randint(10, size = 6)"
   ]
  },
  {
   "cell_type": "code",
   "execution_count": 5,
   "metadata": {},
   "outputs": [
    {
     "name": "stdout",
     "output_type": "stream",
     "text": [
      "印出的結果:\n",
      " [0 7 0 3 7 8]\n"
     ]
    }
   ],
   "source": [
    "print(f\"印出的結果:\\n {a}\")"
   ]
  },
  {
   "cell_type": "code",
   "execution_count": 6,
   "metadata": {},
   "outputs": [
    {
     "name": "stdout",
     "output_type": "stream",
     "text": [
      "陣列的維度: 1\n"
     ]
    }
   ],
   "source": [
    "print(f\"陣列的維度: {a.ndim}\")"
   ]
  },
  {
   "cell_type": "code",
   "execution_count": 7,
   "metadata": {},
   "outputs": [
    {
     "name": "stdout",
     "output_type": "stream",
     "text": [
      "陣列的維度大小: (6,)\n"
     ]
    }
   ],
   "source": [
    "print(f\"陣列的維度大小: {a.shape}\")"
   ]
  },
  {
   "cell_type": "code",
   "execution_count": 8,
   "metadata": {},
   "outputs": [
    {
     "name": "stdout",
     "output_type": "stream",
     "text": [
      "陣列的元素個數: 6\n"
     ]
    }
   ],
   "source": [
    "print(f\"陣列的元素個數: {a.size}\")"
   ]
  },
  {
   "cell_type": "code",
   "execution_count": 9,
   "metadata": {},
   "outputs": [
    {
     "name": "stdout",
     "output_type": "stream",
     "text": [
      "陣列的資料型態: int64\n"
     ]
    }
   ],
   "source": [
    "print(f\"陣列的資料型態: {a.dtype}\")"
   ]
  },
  {
   "cell_type": "code",
   "execution_count": 11,
   "metadata": {},
   "outputs": [
    {
     "name": "stdout",
     "output_type": "stream",
     "text": [
      "陣列的元素的佔用空間: 8\n"
     ]
    }
   ],
   "source": [
    "print(f\"陣列的元素的佔用空間: {a.itemsize}\")"
   ]
  },
  {
   "cell_type": "code",
   "execution_count": 12,
   "metadata": {},
   "outputs": [
    {
     "name": "stdout",
     "output_type": "stream",
     "text": [
      "陣列的長度: 6\n"
     ]
    }
   ],
   "source": [
    "print(f\"陣列的長度: {len(a)}\")"
   ]
  },
  {
   "cell_type": "code",
   "execution_count": 13,
   "metadata": {},
   "outputs": [
    {
     "name": "stdout",
     "output_type": "stream",
     "text": [
      "陣列的類型: <class 'numpy.ndarray'>\n"
     ]
    }
   ],
   "source": [
    "print(f\"陣列的類型: {type(a)}\")"
   ]
  },
  {
   "cell_type": "code",
   "execution_count": 14,
   "metadata": {},
   "outputs": [
    {
     "name": "stdout",
     "output_type": "stream",
     "text": [
      "印出的結果:\n",
      " [[5 9 6 6]\n",
      " [1 9 3 8]\n",
      " [1 8 5 1]]\n",
      "陣列的維度:ndim → 2\n",
      "陣列的維度大小:shape → (3, 4)\n",
      "陣列中的元素個數:size → 12\n",
      "陣列中的資料型態:dtype → int64\n",
      "陣列中的元素占用空間: itemsize → 8\n",
      "陣列的長度: length → 3\n",
      "陣列的類型: type → <class 'numpy.ndarray'>\n"
     ]
    }
   ],
   "source": [
    "b = np.random.randint(10, size=(3,4)) \n",
    "\n",
    "print(f'印出的結果:\\n {b}')\n",
    "print(f'陣列的維度:ndim → {b.ndim}')\n",
    "print(f'陣列的維度大小:shape → {b.shape}')\n",
    "print(f'陣列中的元素個數:size → {b.size}')\n",
    "print(f'陣列中的資料型態:dtype → {b.dtype}')\n",
    "print(f'陣列中的元素占用空間: itemsize → {b.itemsize}')\n",
    "print(f'陣列的長度: length → {len(b)}')\n",
    "print(f'陣列的類型: type → {type(b)}')"
   ]
  },
  {
   "cell_type": "code",
   "execution_count": 15,
   "metadata": {},
   "outputs": [
    {
     "name": "stdout",
     "output_type": "stream",
     "text": [
      "印出的結果:\n",
      " [[[4 2]\n",
      "  [3 6]\n",
      "  [1 6]]\n",
      "\n",
      " [[7 9]\n",
      "  [1 6]\n",
      "  [2 2]]]\n",
      "陣列的維度:ndim → 3\n",
      "陣列的維度大小:shape → (2, 3, 2)\n",
      "陣列中的元素個數:size → 12\n",
      "陣列中的資料型態:dtype → int64\n",
      "陣列中的元素占用空間: itemsize → 8\n",
      "陣列的長度: length → 2\n",
      "陣列的類型: type → <class 'numpy.ndarray'>\n"
     ]
    }
   ],
   "source": [
    "c = np.random.randint(10, size=(2,3,2)) \n",
    "\n",
    "print(f'印出的結果:\\n {c}')\n",
    "print(f'陣列的維度:ndim → {c.ndim}')\n",
    "print(f'陣列的維度大小:shape → {c.shape}')\n",
    "print(f'陣列中的元素個數:size → {c.size}')\n",
    "print(f'陣列中的資料型態:dtype → {c.dtype}')\n",
    "print(f'陣列中的元素占用空間: itemsize → {c.itemsize}')\n",
    "print(f'陣列的長度: length → {len(c)}')\n",
    "print(f'陣列的類型: type → {type(c)}')"
   ]
  },
  {
   "cell_type": "code",
   "execution_count": null,
   "metadata": {},
   "outputs": [],
   "source": []
  },
  {
   "cell_type": "code",
   "execution_count": null,
   "metadata": {},
   "outputs": [],
   "source": []
  },
  {
   "cell_type": "code",
   "execution_count": null,
   "metadata": {},
   "outputs": [],
   "source": []
  },
  {
   "cell_type": "code",
   "execution_count": null,
   "metadata": {},
   "outputs": [],
   "source": []
  },
  {
   "cell_type": "code",
   "execution_count": null,
   "metadata": {},
   "outputs": [],
   "source": []
  },
  {
   "cell_type": "code",
   "execution_count": null,
   "metadata": {},
   "outputs": [],
   "source": []
  },
  {
   "cell_type": "code",
   "execution_count": null,
   "metadata": {},
   "outputs": [],
   "source": []
  },
  {
   "cell_type": "code",
   "execution_count": null,
   "metadata": {},
   "outputs": [],
   "source": []
  }
 ],
 "metadata": {
  "kernelspec": {
   "display_name": "Python 3",
   "language": "python",
   "name": "python3"
  },
  "language_info": {
   "codemirror_mode": {
    "name": "ipython",
    "version": 3
   },
   "file_extension": ".py",
   "mimetype": "text/x-python",
   "name": "python",
   "nbconvert_exporter": "python",
   "pygments_lexer": "ipython3",
   "version": "3.10.8"
  },
  "orig_nbformat": 4
 },
 "nbformat": 4,
 "nbformat_minor": 2
}
